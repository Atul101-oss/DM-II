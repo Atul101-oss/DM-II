{
 "cells": [
  {
   "cell_type": "markdown",
   "metadata": {},
   "source": [
    "Perform the following text mining preprocessing steps on a text document: <br>\n",
    "a. Stop Word Removal <br>\n",
    "b. Stemming <br>\n",
    "c. Removal of punctuation marks <br>\n",
    "d. Compute the inverse document frequency of the words in the document "
   ]
  },
  {
   "cell_type": "code",
   "execution_count": 124,
   "metadata": {},
   "outputs": [],
   "source": [
    "import nltk\n",
    "import string\n",
    "from nltk.tokenize import word_tokenize, sent_tokenize\n",
    "from nltk.corpus import stopwords\n",
    "from nltk.stem import PorterStemmer\n",
    "from sklearn.feature_extraction.text import TfidfVectorizer\n",
    "import numpy as np\n",
    "#nltk.download('all')"
   ]
  },
  {
   "cell_type": "code",
   "execution_count": 125,
   "metadata": {},
   "outputs": [],
   "source": [
    "text = \"Google is a technology company best no issue too good known most beautiful for its search engine, which allows users to search the internet for information, images, news, and other resources. Founded in 1998 by Larry Page and Sergey Brin, Google has since expanded into a vast array of services and products.\""
   ]
  },
  {
   "cell_type": "markdown",
   "metadata": {},
   "source": [
    "## removal of Stop words"
   ]
  },
  {
   "cell_type": "code",
   "execution_count": 126,
   "metadata": {},
   "outputs": [
    {
     "name": "stdout",
     "output_type": "stream",
     "text": [
      "stop words, length:  ['i', 'me', 'my', 'myself', 'we', 'our', 'ours', 'ourselves', 'you', \"you're\"] 179\n"
     ]
    }
   ],
   "source": [
    "stop_words = stopwords.words(\"english\")\n",
    "print(\"stop words, length: \", stop_words[:10], len(stop_words))"
   ]
  },
  {
   "cell_type": "code",
   "execution_count": 127,
   "metadata": {},
   "outputs": [
    {
     "name": "stdout",
     "output_type": "stream",
     "text": [
      "['Google', 'technology', 'company', 'best', 'issue', 'good', 'known', 'beautiful', 'search', 'engine', ',', 'allows', 'users', 'search', 'internet', 'information', ',', 'images', ',', 'news', ',', 'resources', '.', 'Founded', '1998', 'Larry', 'Page', 'Sergey', 'Brin', ',', 'Google', 'since', 'expanded', 'vast', 'array', 'services', 'products', '.']\n"
     ]
    }
   ],
   "source": [
    "tokanized_text = word_tokenize(text)\n",
    "filtered_text = [word for word in tokanized_text if word not in stop_words]\n",
    "print(filtered_text)"
   ]
  },
  {
   "cell_type": "markdown",
   "metadata": {},
   "source": [
    "## Apply stemming\n",
    "- stemming: consolidating variations of same word to reduce dimensnality and improve recall."
   ]
  },
  {
   "cell_type": "code",
   "execution_count": 128,
   "metadata": {},
   "outputs": [
    {
     "name": "stdout",
     "output_type": "stream",
     "text": [
      "without stemming:  ['Google', 'technology', 'company', 'best', 'issue', 'good', 'known', 'beautiful', 'search', 'engine', ',', 'allows', 'users', 'search', 'internet', 'information', ',', 'images', ',', 'news', ',', 'resources', '.', 'Founded', '1998', 'Larry', 'Page', 'Sergey', 'Brin', ',', 'Google', 'since', 'expanded', 'vast', 'array', 'services', 'products', '.'] \n",
      "with Stemming:  ['googl', 'technolog', 'compani', 'best', 'issu', 'good', 'known', 'beauti', 'search', 'engin', ',', 'allow', 'user', 'search', 'internet', 'inform', ',', 'imag', ',', 'news', ',', 'resourc', '.', 'found', '1998', 'larri', 'page', 'sergey', 'brin', ',', 'googl', 'sinc', 'expand', 'vast', 'array', 'servic', 'product', '.']\n"
     ]
    }
   ],
   "source": [
    "stemmer = PorterStemmer()\n",
    "stemmed_text = [stemmer.stem(word) for word in filtered_text]\n",
    "print(\"without stemming: \",filtered_text,\"\\nwith Stemming: \",stemmed_text)"
   ]
  },
  {
   "cell_type": "markdown",
   "metadata": {},
   "source": [
    "## Remove punctuations"
   ]
  },
  {
   "cell_type": "code",
   "execution_count": 129,
   "metadata": {},
   "outputs": [],
   "source": [
    "translator = str.maketrans(\"\",\"\",string.punctuation)\n",
    "filtered_text = [word.translate(translator) for word in filtered_text if word.translate(translator)!='']\n",
    "stemmed_text = [word.translate(translator) for word in stemmed_text if word.translate(translator)!='']\n"
   ]
  },
  {
   "cell_type": "markdown",
   "metadata": {},
   "source": [
    "## Computing inverse document frequancy of words in document\n",
    "- *IDF* : in this process words with high frequany weighted less <br>\n",
    "    - because higher frequancy create noise in tf{ term frequancy} matrix"
   ]
  },
  {
   "cell_type": "code",
   "execution_count": 130,
   "metadata": {},
   "outputs": [
    {
     "name": "stdout",
     "output_type": "stream",
     "text": [
      "1998: 3.772588722239781\n",
      "allow: 3.772588722239781\n",
      "array: 3.772588722239781\n",
      "beauti: 3.772588722239781\n",
      "best: 3.772588722239781\n",
      "brin: 3.772588722239781\n",
      "compani: 3.772588722239781\n",
      "engin: 3.772588722239781\n",
      "expand: 3.772588722239781\n",
      "found: 3.772588722239781\n",
      "good: 3.772588722239781\n",
      "googl: 3.367123614131617\n",
      "imag: 3.772588722239781\n",
      "inform: 3.772588722239781\n",
      "internet: 3.772588722239781\n",
      "issu: 3.772588722239781\n",
      "known: 3.772588722239781\n",
      "larri: 3.772588722239781\n",
      "news: 3.772588722239781\n",
      "page: 3.772588722239781\n",
      "product: 3.772588722239781\n",
      "resourc: 3.772588722239781\n",
      "search: 3.367123614131617\n",
      "sergey: 3.772588722239781\n",
      "servic: 3.772588722239781\n",
      "sinc: 3.772588722239781\n",
      "technolog: 3.772588722239781\n",
      "user: 3.772588722239781\n",
      "vast: 3.772588722239781\n"
     ]
    }
   ],
   "source": [
    "vectorizer = TfidfVectorizer()\n",
    "tfidf_matrix = vectorizer.fit_transform(stemmed_text)\n",
    "idf_scores = dict(zip(vectorizer.get_feature_names_out(), vectorizer.idf_))\n",
    "\n",
    "# Display IDF scores\n",
    "for word, score in idf_scores.items():\n",
    "    print(f\"{word}: {score}\")\n"
   ]
  }
 ],
 "metadata": {
  "kernelspec": {
   "display_name": ".venv",
   "language": "python",
   "name": "python3"
  },
  "language_info": {
   "codemirror_mode": {
    "name": "ipython",
    "version": 3
   },
   "file_extension": ".py",
   "mimetype": "text/x-python",
   "name": "python",
   "nbconvert_exporter": "python",
   "pygments_lexer": "ipython3",
   "version": "3.12.3"
  }
 },
 "nbformat": 4,
 "nbformat_minor": 2
}
